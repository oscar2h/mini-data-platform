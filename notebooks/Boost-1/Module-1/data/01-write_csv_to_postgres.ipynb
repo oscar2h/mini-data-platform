{
 "cells": [
  {
   "cell_type": "code",
   "execution_count": 1,
   "id": "0dc1e09e-c96f-4ad2-93a8-75d13c46a678",
   "metadata": {},
   "outputs": [],
   "source": [
    "import psycopg2\n",
    "import os\n",
    "import traceback\n",
    "import pandas as pd\n",
    "import urllib.request\n",
    "import logging"
   ]
  },
  {
   "cell_type": "code",
   "execution_count": 2,
   "id": "bed57c90-732b-4e49-9abc-c532f183267e",
   "metadata": {},
   "outputs": [],
   "source": [
    "logging.basicConfig(level=logging.INFO, format='%(asctime)s:%(funcName)s:%(levelname)s:(massage)s')"
   ]
  },
  {
   "cell_type": "code",
   "execution_count": 3,
   "id": "20eb8c1b-9b60-4e5a-93b4-b41bb72ab164",
   "metadata": {},
   "outputs": [],
   "source": [
    "postgres_host = '172.18.0.6'\n",
    "postgres_database = 'shared'\n",
    "postgres_user = os.environ.get('POSTGRES_USER')\n",
    "postgres_password = os.environ.get('SHARED_PASSWORD')\n",
    "postgres_port = '5432'\n",
    "dest_folder = './data'"
   ]
  },
  {
   "cell_type": "code",
   "execution_count": 4,
   "id": "a3b1896c-aa4f-479a-b993-947cc5d7fe0f",
   "metadata": {},
   "outputs": [],
   "source": [
    "url = \"https://raw.githubusercontent.com/xploiterx/datasets/master/Proyect-0/CSV/Churn_Modelling-1.csv\"\n",
    "destination_path = f'{dest_folder}/Churn_Modelling-1.csv'"
   ]
  },
  {
   "cell_type": "code",
   "execution_count": 5,
   "id": "10907235-0a7b-4f86-bfa9-7caec9fb3260",
   "metadata": {},
   "outputs": [],
   "source": [
    "conn = psycopg2.connect(\n",
    "    host = postgres_host,\n",
    "    database = postgres_database,\n",
    "    user = postgres_user,\n",
    "    password = postgres_password,\n",
    "    port = postgres_port\n",
    ")"
   ]
  },
  {
   "cell_type": "code",
   "execution_count": 6,
   "id": "f3f74877-763c-422f-9935-7175f9c3f7e8",
   "metadata": {},
   "outputs": [
    {
     "name": "stderr",
     "output_type": "stream",
     "text": [
      "2024-08-15 00:28:17,256:<module>:INFO:(massage)s\n"
     ]
    }
   ],
   "source": [
    "try:\n",
    "    conn = psycopg2.connect(\n",
    "    host = postgres_host,\n",
    "    database = postgres_database,\n",
    "    user = postgres_user,\n",
    "    password = postgres_password,\n",
    "    port = postgres_port\n",
    "    )\n",
    "    cur = conn.cursor()\n",
    "    logging.info('la conexion a postgres es correcta')\n",
    "except Exception as e:\n",
    "    traceback.print_exec()\n",
    "    logging.errror(\"No se pudo crear la conexion\")"
   ]
  },
  {
   "cell_type": "code",
   "execution_count": 7,
   "id": "bc4d8015-f2e1-43ce-8772-adb2a8c2a359",
   "metadata": {},
   "outputs": [],
   "source": [
    "def download_file_from_url(url: str, dest_folder: str):\n",
    "    if not os.path.exists(str(dest_folder)):\n",
    "        os.makedirs(str(dest_folder))\n",
    "    try:\n",
    "        urllib.request.urlretrieve(url, destination_path)\n",
    "        logging.info('Archivo descargado exitosamente al directorio de trabajo')\n",
    "    except Exeption as e:\n",
    "        logging.error(f'Error al descargar el archivo CSV debido a: {e}')\n",
    "        traceback.print_exec()"
   ]
  },
  {
   "cell_type": "code",
   "execution_count": 8,
   "id": "1be88863-19ab-4894-84c2-6dd58cb84d02",
   "metadata": {},
   "outputs": [],
   "source": [
    "def create_postgres_table():\n",
    "    try:\n",
    "        cur.execute(\"\"\"CREATE TABLE IF NOT EXISTS churn_modelling (\n",
    "                    RowNumber INTEGER PRIMARY KEY, \n",
    "                    CustomerID INTEGER, \n",
    "                    Surname VARCHAR(50),\n",
    "                    CreditScore INTEGER, \n",
    "                    Geography VARCHAR(50),\n",
    "                    Gender VARCHAR(50), \n",
    "                    Age INTEGER, \n",
    "                    Tenure INTEGER, \n",
    "                    Balance FLOAT, \n",
    "                    NumOfProducts INTEGER, \n",
    "                    HasCrCard INTEGER,\n",
    "                    IsActiveMember INTEGER, \n",
    "                    EstimatedSalary FLOAT, \n",
    "                    Exited INTEGER)\"\"\")\n",
    "\n",
    "        logggin.info('Nueva tabla churn_modelling creada exitosamente en el servidor postgres')\n",
    "    except:\n",
    "        logging.warning('Verifica si la tabla churn_modelling existe ')"
   ]
  },
  {
   "cell_type": "code",
   "execution_count": 9,
   "id": "2e5e9c53-1297-4b53-9025-7eb74c0d213b",
   "metadata": {},
   "outputs": [],
   "source": [
    "def write_to_postgres():\n",
    "    df = pd.read_csv(f'{dest_folder }/Churn_Modelling-1.csv')\n",
    "    inserted_row_count = 0\n",
    "\n",
    "    for _, row in df.iterrows():\n",
    "        count_query = f\"\"\"SELECT COUNT(*) FROM churn_modelling WHERE RowNumber = {row['RowNumber']}\"\"\"\n",
    "        cur.execute(count_query)\n",
    "        result = cur.fetchone()\n",
    "        if result[0] == 0:\n",
    "            inserted_row_count += 1\n",
    "            cur.execute(\"\"\"INSERT INTO churn_modelling (RowNumber, \n",
    "                        CustomerId, \n",
    "                        Surname, \n",
    "                        CreditScore, \n",
    "                        Geography,\n",
    "                        Gender, \n",
    "                        Age, \n",
    "                        Tenure, \n",
    "                        Balance, \n",
    "                        NumOfProducts, \n",
    "                        HasCrCard, \n",
    "                        IsActiveMember, \n",
    "                        EstimatedSalary, \n",
    "                        Exited) VALUES (%s,%s,%s,%s,%s,%s,%s,%s,%s,%s,%s,%s,%s,%s)\"\"\",\n",
    "                        (int(row[0]), \n",
    "                         int(row[1]), \n",
    "                         str(row[2]), \n",
    "                         int(row[3]), \n",
    "                         str(row[4]), \n",
    "                         str(row[5]), \n",
    "                         int(row[6]), \n",
    "                         int(row[7]), \n",
    "                         float(row[8]), \n",
    "                         int(row[9]), \n",
    "                         int(row[10]), \n",
    "                         int(row[11]), \n",
    "                         float(row[12]), \n",
    "                         int(row[13])))\n",
    "    logging.info(f'{inserted_row_count} Las filas del CSV han sido insertadas exitosamente en la tabla')"
   ]
  },
  {
   "cell_type": "code",
   "execution_count": 10,
   "id": "a7fd7cc7-04ef-49de-b884-36aa8d93f796",
   "metadata": {},
   "outputs": [],
   "source": [
    "def write_csv_to_postgres_main():\n",
    "    download_file_from_url(url, dest_folder)\n",
    "    create_postgres_table()\n",
    "    write_to_postgres()\n",
    "    conn.commit()\n",
    "    cur.close()\n",
    "    conn.close()"
   ]
  },
  {
   "cell_type": "code",
   "execution_count": 11,
   "id": "89de139d-a0ec-45da-aea7-d26aca8a6637",
   "metadata": {},
   "outputs": [
    {
     "name": "stderr",
     "output_type": "stream",
     "text": [
      "2024-08-15 00:28:17,504:download_file_from_url:INFO:(massage)s\n",
      "2024-08-15 00:28:17,512:create_postgres_table:WARNING:(massage)s\n",
      "2024-08-15 00:28:20,061:write_to_postgres:INFO:(massage)s\n"
     ]
    }
   ],
   "source": [
    "if __name__ == '__main__':\n",
    "    download_file_from_url(url, dest_folder)\n",
    "    create_postgres_table()\n",
    "    write_to_postgres()\n",
    "    conn.commit()\n",
    "    cur.close()\n",
    "    conn.close()"
   ]
  },
  {
   "cell_type": "code",
   "execution_count": null,
   "id": "2f3ed1a5-9cc4-4944-97d3-7bbb35d5d6cd",
   "metadata": {},
   "outputs": [],
   "source": []
  }
 ],
 "metadata": {
  "kernelspec": {
   "display_name": "Python 3 (ipykernel)",
   "language": "python",
   "name": "python3"
  },
  "language_info": {
   "codemirror_mode": {
    "name": "ipython",
    "version": 3
   },
   "file_extension": ".py",
   "mimetype": "text/x-python",
   "name": "python",
   "nbconvert_exporter": "python",
   "pygments_lexer": "ipython3",
   "version": "3.11.6"
  }
 },
 "nbformat": 4,
 "nbformat_minor": 5
}
