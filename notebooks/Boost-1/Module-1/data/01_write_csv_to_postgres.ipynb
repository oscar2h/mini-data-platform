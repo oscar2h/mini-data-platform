{
 "cells": [
  {
   "cell_type": "code",
   "execution_count": 1,
   "id": "5057a917-267d-458e-a142-91e85e1491f5",
   "metadata": {},
   "outputs": [],
   "source": [
    "import psycopg2\n",
    "import os\n",
    "import traceback\n",
    "import logging\n",
    "import pandas as pd\n",
    "import urllib.request"
   ]
  },
  {
   "cell_type": "code",
   "execution_count": 2,
   "id": "a22bf6e9-a73b-4b18-b537-e83f8f761958",
   "metadata": {},
   "outputs": [],
   "source": [
    "logging.basicConfig(level=logging.INFO,format='%(asctime)s:%(funcName)s:%(levelname)s:%(message)s')"
   ]
  },
  {
   "cell_type": "code",
   "execution_count": 6,
   "id": "ed634b49-548a-4058-ab84-3ec7133a3ca1",
   "metadata": {},
   "outputs": [],
   "source": [
    "postgres_host = '172.25.0.6'\n",
    "postgres_database = 'shared'\n",
    "postgres_user = os.environ.get('POSTGRES_USER')\n",
    "postgres_password = os.environ.get('SHARED_PASSWORD')\n",
    "postgres_port = '5432'\n",
    "dest_folder = './data'"
   ]
  },
  {
   "cell_type": "code",
   "execution_count": 8,
   "id": "e8bbc498-2df8-4760-89de-260ef1537829",
   "metadata": {},
   "outputs": [],
   "source": [
    "url = \"https://raw.githubusercontent.com/xploiterx/datasets/master/Proyect-0/CSV/Churn_Modelling-1.csv\"\n",
    "destination_path = f'{dest_folder}/churn_modelling.csv'"
   ]
  },
  {
   "cell_type": "code",
   "execution_count": 9,
   "id": "d37ad35b-6008-4676-987a-727f3757d6a3",
   "metadata": {},
   "outputs": [
    {
     "name": "stderr",
     "output_type": "stream",
     "text": [
      "2024-10-02 01:01:16,384:<module>:INFO:Conexión exitosa al servidor Postgres\n"
     ]
    }
   ],
   "source": [
    "try:\n",
    "    conn = psycopg2.connect(\n",
    "        host=postgres_host,\n",
    "        database=postgres_database,\n",
    "        user=postgres_user,\n",
    "        password=postgres_password,\n",
    "        port=postgres_port\n",
    "    )\n",
    "    cur = conn.cursor()\n",
    "    logging.info('Conexión exitosa al servidor Postgres')\n",
    "except Exception as e:\n",
    "    traceback.print_exc()\n",
    "    logging.error(\"No se pudo crear la conexión a Postgres\")"
   ]
  },
  {
   "cell_type": "code",
   "execution_count": null,
   "id": "db4ee4c7-90a5-45b8-a513-6f8096bc8ab1",
   "metadata": {},
   "outputs": [],
   "source": []
  }
 ],
 "metadata": {
  "kernelspec": {
   "display_name": "Python 3 (ipykernel)",
   "language": "python",
   "name": "python3"
  },
  "language_info": {
   "codemirror_mode": {
    "name": "ipython",
    "version": 3
   },
   "file_extension": ".py",
   "mimetype": "text/x-python",
   "name": "python",
   "nbconvert_exporter": "python",
   "pygments_lexer": "ipython3",
   "version": "3.11.6"
  }
 },
 "nbformat": 4,
 "nbformat_minor": 5
}
