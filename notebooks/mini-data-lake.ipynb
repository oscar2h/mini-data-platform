{
 "cells": [
  {
   "cell_type": "code",
   "execution_count": null,
   "id": "approximate-steal",
   "metadata": {},
   "outputs": [],
   "source": [
    "from pyspark import SparkConf, SparkContext\n",
    "from pyspark.sql import SparkSession\n",
    "from pyspark.sql import *\n",
    "from pyspark.sql.types import *\n",
    "from pyspark.sql.functions import udf\n",
    "from pyspark.sql.functions import *\n",
    "from pyspark.sql.window import Window\n",
    "NoneType = type(None)\n",
    "import os\n",
    "import socket\n",
    "import hashlib\n",
    "import string\n",
    "\n",
    "import time\n",
    "from osgeo import ogr\n",
    "import geopandas as gpd\n",
    "from pyspark.sql import SparkSession\n",
    "from sedona.register import SedonaRegistrator\n",
    "from sedona.utils import SedonaKryoRegistrator, KryoSerializer"
   ]
  },
  {
   "cell_type": "code",
   "execution_count": null,
   "id": "fifth-symbol",
   "metadata": {},
   "outputs": [],
   "source": [
    "def createMd5(text):\n",
    "    return hashlib.md5(text.encode('utf-8')).hexdigest()\n",
    "md5Udf= udf(lambda z: createMd5(z),StringType())\n",
    "\n",
    "def clean_lower(text):\n",
    "    sentence = text.translate(str.maketrans('', '', '!\"#$%&\\'()*+,./:;<=>?@[\\\\]^`{|}~-_”“«»‘')).lower()\n",
    "    return \" \".join(sentence.split())\n",
    "cleanLowerUdf= udf(lambda z: clean_lower(z),StringType())\n",
    "\n",
    "def get_site_from_url(text):\n",
    "    return text.split(\"/\")[2]\n",
    "getUrl= udf(lambda z: get_site_from_url(z),StringType())    \n"
   ]
  },
  {
   "cell_type": "code",
   "execution_count": null,
   "id": "transparent-division",
   "metadata": {},
   "outputs": [],
   "source": [
    "minio_ip = socket.gethostbyname('minio')\n",
    "spark = SparkSession. \\\n",
    "    builder. \\\n",
    "    appName(\"Python Spark S3\"). \\\n",
    "    config(\"spark.serializer\", KryoSerializer.getName). \\\n",
    "    config(\"spark.executor.memory\", \"80g\"). \\\n",
    "    config(\"spark.driver.memory\", \"80g\"). \\\n",
    "    config('spark.dirver.maxResultSize', '5g'). \\\n",
    "    config(\"spark.kryo.registrator\", SedonaKryoRegistrator.getName). \\\n",
    "    config('spark.hadoop.fs.s3a.endpoint', 'http://'+minio_ip+':9000'). \\\n",
    "    config(\"spark.hadoop.fs.s3a.access.key\", \"minio-access-key\"). \\\n",
    "    config(\"spark.hadoop.fs.s3a.secret.key\", \"minio-secret-key\"). \\\n",
    "    config('spark.hadoop.fs.s3a.impl', 'org.apache.hadoop.fs.s3a.S3AFileSystem'). \\\n",
    "    config('spark.jars.packages',\n",
    "           'org.apache.sedona:sedona-python-adapter-3.0_2.12:1.0.0-incubating,org.datasyslab:geotools-wrapper:geotools-24.0'). \\\n",
    "    getOrCreate()\n",
    "SedonaRegistrator.registerAll(spark)"
   ]
  },
  {
   "cell_type": "code",
   "execution_count": null,
   "id": "actual-belle",
   "metadata": {},
   "outputs": [],
   "source": [
    "\n",
    "st= StructType([\n",
    "    StructField(\"abstract\", StringType()),\n",
    "    StructField(\"authors\", StringType()),\n",
    "    StructField(\"image\", StringType()),\n",
    "    StructField(\"metadata\", StringType()),\n",
    "    StructField(\"publish_date\", TimestampType()),\n",
    "    StructField(\"text\", StringType()),\n",
    "    StructField(\"title\", StringType()),\n",
    "    StructField(\"url\", StringType()),\n",
    "])"
   ]
  },
  {
   "cell_type": "code",
   "execution_count": null,
   "id": "historical-license",
   "metadata": {},
   "outputs": [],
   "source": [
    "df_news_covid_mexico = spark \\\n",
    "                        .read.schema(st).option(\"timestampFormat\", \"dd-MM-yyyy\") \\\n",
    "                        .json(\"s3a://news/covid_mexico/*.json\")"
   ]
  },
  {
   "cell_type": "code",
   "execution_count": null,
   "id": "billion-energy",
   "metadata": {},
   "outputs": [],
   "source": [
    "df_news_covid_mexico.count()"
   ]
  },
  {
   "cell_type": "code",
   "execution_count": null,
   "id": "regulation-daisy",
   "metadata": {},
   "outputs": [],
   "source": [
    "df_news_covid_mexico.printSchema()"
   ]
  },
  {
   "cell_type": "code",
   "execution_count": null,
   "id": "olympic-milwaukee",
   "metadata": {},
   "outputs": [],
   "source": [
    "df_news_covid_mexico.show(10)"
   ]
  },
  {
   "cell_type": "code",
   "execution_count": null,
   "id": "champion-optimization",
   "metadata": {},
   "outputs": [],
   "source": [
    "df_news_covid_mexico_date_text = df_news_covid_mexico.select(md5Udf(\"url\").alias(\"article_id\"),\"title\",\"url\",\"publish_date\",cleanLowerUdf(\"text\").alias(\"clean_text\"),getUrl(\"url\").alias(\"site\")).filter(\"length(text) >= 2\")"
   ]
  },
  {
   "cell_type": "code",
   "execution_count": null,
   "id": "changing-bishop",
   "metadata": {},
   "outputs": [],
   "source": [
    "df_news_covid_mexico_date_text.show(15)"
   ]
  },
  {
   "cell_type": "code",
   "execution_count": null,
   "id": "favorite-grill",
   "metadata": {},
   "outputs": [],
   "source": [
    "df_news_covid_mexico_date_text.count()"
   ]
  },
  {
   "cell_type": "code",
   "execution_count": null,
   "id": "musical-houston",
   "metadata": {},
   "outputs": [],
   "source": [
    "df_news_covid_mexico_date_text.select(\"title\").show(15,False)"
   ]
  },
  {
   "cell_type": "code",
   "execution_count": null,
   "id": "initial-investigator",
   "metadata": {},
   "outputs": [],
   "source": [
    "url = \"jdbc:postgresql://postgres/shared\"\n",
    "mode=\"overwrite\"\n",
    "properties = {\n",
    "    \"user\": \"shared\",\n",
    "    \"password\": os.environ['SHARED_PASSWORD']\n",
    "}"
   ]
  },
  {
   "cell_type": "code",
   "execution_count": null,
   "id": "applicable-science",
   "metadata": {},
   "outputs": [],
   "source": []
  },
  {
   "cell_type": "code",
   "execution_count": null,
   "id": "million-wallace",
   "metadata": {},
   "outputs": [],
   "source": [
    "df_news_covid_mexico_date_text.write.jdbc(url=url, table=\"tb_news_covid_mexico_date_text\", mode=mode, properties=properties)"
   ]
  },
  {
   "cell_type": "code",
   "execution_count": null,
   "id": "square-contents",
   "metadata": {},
   "outputs": [],
   "source": [
    "df_news_covid_mexico_palabras = df_news_covid_mexico_date_text.select(\"article_id\",\"publish_date\",explode(split(df_news_covid_mexico_date_text.clean_text, \"\\s\")).alias(\"palabra\")).where(length('palabra') > 1)"
   ]
  },
  {
   "cell_type": "code",
   "execution_count": null,
   "id": "boolean-environment",
   "metadata": {},
   "outputs": [],
   "source": [
    "df_news_covid_mexico_palabras.show(30)"
   ]
  },
  {
   "cell_type": "code",
   "execution_count": null,
   "id": "sustainable-experience",
   "metadata": {},
   "outputs": [],
   "source": [
    "#https://sigdelta.com/blog/word-count-in-spark-with-a-pinch-of-tf-idf/\n",
    "df_news_covid_mexico_palabras.groupBy('article_id', 'palabra','publish_date')\\\n",
    "    .count()\\\n",
    "    .orderBy('count', ascending=False)\\\n",
    "    .show(25)"
   ]
  },
  {
   "cell_type": "code",
   "execution_count": null,
   "id": "integrated-clark",
   "metadata": {},
   "outputs": [],
   "source": [
    "#https://sigdelta.com/blog/word-count-in-spark-with-a-pinch-of-tf-idf-continued/\n",
    "w = Window.partitionBy(df_news_covid_mexico_palabras['article_id'])\n",
    "\n",
    "article_tf = df_news_covid_mexico_palabras.groupBy('article_id', 'palabra', 'publish_date')\\\n",
    "    .agg(count('*').alias('n_w'),sum(count('*')).over(w).alias('n_d'),(count('*')/sum(count('*')).over(w)).alias('tf'))\\\n",
    "    .orderBy('n_w', ascending=False)\\\n",
    "    .cache()\n",
    "\n",
    "article_tf.show(truncate=15)"
   ]
  },
  {
   "cell_type": "code",
   "execution_count": null,
   "id": "automatic-notice",
   "metadata": {},
   "outputs": [],
   "source": [
    "w = Window.partitionBy('palabra')\n",
    "\n",
    "c_d = df_news_covid_mexico_palabras.select('article_id').distinct().count()\n",
    "\n",
    "article_idf = df_news_covid_mexico_palabras.groupBy('palabra', 'article_id','publish_date').agg(\n",
    "        lit(c_d).alias('c_d'),\n",
    "        count('*').over(w).alias('i_d'),\n",
    "        log(lit(c_d)/count('*').over(w)).alias('idf')\n",
    "    )\\\n",
    "    .orderBy('idf', ascending=False)\\\n",
    "    .cache()"
   ]
  },
  {
   "cell_type": "code",
   "execution_count": null,
   "id": "absolute-project",
   "metadata": {},
   "outputs": [],
   "source": [
    "article_idf.show(150, truncate=15)"
   ]
  },
  {
   "cell_type": "code",
   "execution_count": null,
   "id": "surface-closing",
   "metadata": {},
   "outputs": [],
   "source": [
    "article_tfidf = article_tf.join(article_idf, ['article_id', 'palabra', 'publish_date'])\\\n",
    "    .withColumn('tf_idf', col('tf') * col('idf'))\\\n",
    "    .cache()"
   ]
  },
  {
   "cell_type": "code",
   "execution_count": null,
   "id": "secret-antenna",
   "metadata": {},
   "outputs": [],
   "source": [
    "article_tfidf.orderBy('tf_idf', ascending=False).show(150,truncate=12)"
   ]
  },
  {
   "cell_type": "code",
   "execution_count": null,
   "id": "suitable-auditor",
   "metadata": {},
   "outputs": [],
   "source": [
    "w = Window.partitionBy('article_id').orderBy(col('tf_idf').desc())\n",
    "\n",
    "article_tfidf_top_15=article_tfidf.withColumn('rank', rank().over(w))\\\n",
    "    .where('rank <= 15')\\\n",
    "    .drop('rank')\\\n",
    "    .orderBy('article_id', 'tf_idf','n_w')\\\n",
    "    .select('article_id','publish_date','palabra','n_w','tf_idf')"
   ]
  },
  {
   "cell_type": "code",
   "execution_count": null,
   "id": "neural-guide",
   "metadata": {},
   "outputs": [],
   "source": [
    "article_tfidf_top_15.show(truncate=12, n=30)"
   ]
  },
  {
   "cell_type": "code",
   "execution_count": null,
   "id": "likely-sound",
   "metadata": {},
   "outputs": [],
   "source": [
    "article_tfidf_top_15_site = article_tfidf_top_15.join(df_news_covid_mexico_date_text, ['article_id','publish_date']).select('article_id','publish_date','site','palabra','n_w','tf_idf')"
   ]
  },
  {
   "cell_type": "code",
   "execution_count": null,
   "id": "aboriginal-guard",
   "metadata": {},
   "outputs": [],
   "source": [
    "article_tfidf_top_15_site.show(15)"
   ]
  },
  {
   "cell_type": "code",
   "execution_count": null,
   "id": "analyzed-connection",
   "metadata": {},
   "outputs": [],
   "source": [
    "article_tfidf_top_15_site.write.jdbc(url=url, table=\"tb_news_covid_mexico_palabras_top_tfidf\", mode=mode, properties=properties)"
   ]
  },
  {
   "cell_type": "code",
   "execution_count": null,
   "id": "impressive-location",
   "metadata": {},
   "outputs": [],
   "source": []
  }
 ],
 "metadata": {
  "kernelspec": {
   "display_name": "Python 3",
   "language": "python",
   "name": "python3"
  },
  "language_info": {
   "codemirror_mode": {
    "name": "ipython",
    "version": 3
   },
   "file_extension": ".py",
   "mimetype": "text/x-python",
   "name": "python",
   "nbconvert_exporter": "python",
   "pygments_lexer": "ipython3",
   "version": "3.8.8"
  }
 },
 "nbformat": 4,
 "nbformat_minor": 5
}
